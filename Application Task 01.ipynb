{
 "metadata": {
  "language_info": {
   "codemirror_mode": {
    "name": "ipython",
    "version": 3
   },
   "file_extension": ".py",
   "mimetype": "text/x-python",
   "name": "python",
   "nbconvert_exporter": "python",
   "pygments_lexer": "ipython3",
   "version": "3.7.9"
  },
  "orig_nbformat": 2,
  "kernelspec": {
   "name": "python3",
   "display_name": "Python 3.7.9 64-bit ('Master_Thesis_env': conda)"
  },
  "interpreter": {
   "hash": "89a54e7346d33656f2940aba0e47a561becf96fe36c69c035d9bc66d085d8900"
  }
 },
 "nbformat": 4,
 "nbformat_minor": 2,
 "cells": [
  {
   "source": [
    "<div class=\"alert alert-info\" style=\"background-color:#5d3a8e; color:white; padding:0px 10px; border-radius:5px;\"><h1 style='margin:10px 5px'> \n",
    "Dognames Application Task - Yannik Haller's Solution\n",
    "</h1>\n",
    "</div>"
   ],
   "cell_type": "markdown",
   "metadata": {}
  },
  {
   "cell_type": "code",
   "execution_count": 1,
   "metadata": {},
   "outputs": [],
   "source": [
    "# Import required baseline packages\n",
    "import pandas as pd\n",
    "import io\n",
    "import requests\n",
    "import numpy as np\n",
    "\n",
    "# Import the Levenshtein package to calculate the Levenshtein distance between strings\n",
    "import Levenshtein"
   ]
  },
  {
   "cell_type": "code",
   "execution_count": 2,
   "metadata": {},
   "outputs": [
    {
     "output_type": "execute_result",
     "data": {
      "text/plain": [
       "                         HUNDENAME  GEBURTSJAHR_HUND GESCHLECHT_HUND\n",
       "0                            Ituma              2011               w\n",
       "1         \"Bo\" Bendy of Treegarden              2020               m\n",
       "2            \"Bobby\" Lord Sinclair              2009               m\n",
       "3       \"Buddy\" Fortheringhay's J.              2011               m\n",
       "4     \"Fly\" Showring i fly for you              2015               w\n",
       "...                            ...               ...             ...\n",
       "8569                     unbekannt              2010               w\n",
       "8570                     unbekannt              2011               m\n",
       "8571                     unbekannt              2018               m\n",
       "8572                     unbekannt              2018               m\n",
       "8573                     unbekannt              2017               m\n",
       "\n",
       "[8574 rows x 3 columns]"
      ],
      "text/html": "<div>\n<style scoped>\n    .dataframe tbody tr th:only-of-type {\n        vertical-align: middle;\n    }\n\n    .dataframe tbody tr th {\n        vertical-align: top;\n    }\n\n    .dataframe thead th {\n        text-align: right;\n    }\n</style>\n<table border=\"1\" class=\"dataframe\">\n  <thead>\n    <tr style=\"text-align: right;\">\n      <th></th>\n      <th>HUNDENAME</th>\n      <th>GEBURTSJAHR_HUND</th>\n      <th>GESCHLECHT_HUND</th>\n    </tr>\n  </thead>\n  <tbody>\n    <tr>\n      <th>0</th>\n      <td>Ituma</td>\n      <td>2011</td>\n      <td>w</td>\n    </tr>\n    <tr>\n      <th>1</th>\n      <td>\"Bo\" Bendy of Treegarden</td>\n      <td>2020</td>\n      <td>m</td>\n    </tr>\n    <tr>\n      <th>2</th>\n      <td>\"Bobby\" Lord Sinclair</td>\n      <td>2009</td>\n      <td>m</td>\n    </tr>\n    <tr>\n      <th>3</th>\n      <td>\"Buddy\" Fortheringhay's J.</td>\n      <td>2011</td>\n      <td>m</td>\n    </tr>\n    <tr>\n      <th>4</th>\n      <td>\"Fly\" Showring i fly for you</td>\n      <td>2015</td>\n      <td>w</td>\n    </tr>\n    <tr>\n      <th>...</th>\n      <td>...</td>\n      <td>...</td>\n      <td>...</td>\n    </tr>\n    <tr>\n      <th>8569</th>\n      <td>unbekannt</td>\n      <td>2010</td>\n      <td>w</td>\n    </tr>\n    <tr>\n      <th>8570</th>\n      <td>unbekannt</td>\n      <td>2011</td>\n      <td>m</td>\n    </tr>\n    <tr>\n      <th>8571</th>\n      <td>unbekannt</td>\n      <td>2018</td>\n      <td>m</td>\n    </tr>\n    <tr>\n      <th>8572</th>\n      <td>unbekannt</td>\n      <td>2018</td>\n      <td>m</td>\n    </tr>\n    <tr>\n      <th>8573</th>\n      <td>unbekannt</td>\n      <td>2017</td>\n      <td>m</td>\n    </tr>\n  </tbody>\n</table>\n<p>8574 rows × 3 columns</p>\n</div>"
     },
     "metadata": {},
     "execution_count": 2
    }
   ],
   "source": [
    "# Load the data\n",
    "url = \"https://data.stadt-zuerich.ch/dataset/sid_stapo_hundenamen/download/20210103_hundenamen.csv\"\n",
    "s = requests.get(url).content\n",
    "dognames_df = pd.read_csv(io.StringIO(s.decode('utf-8')))\n",
    "\n",
    "# Take a look at the retrieved dataframe\n",
    "dognames_df"
   ]
  },
  {
   "cell_type": "code",
   "execution_count": 3,
   "metadata": {},
   "outputs": [
    {
     "output_type": "execute_result",
     "data": {
      "text/plain": [
       "HUNDENAME           0\n",
       "GEBURTSJAHR_HUND    0\n",
       "GESCHLECHT_HUND     0\n",
       "dtype: int64"
      ]
     },
     "metadata": {},
     "execution_count": 3
    }
   ],
   "source": [
    "# Check the data for missing values\n",
    "dognames_df.isna().sum()"
   ]
  },
  {
   "cell_type": "code",
   "execution_count": 4,
   "metadata": {},
   "outputs": [
    {
     "output_type": "execute_result",
     "data": {
      "text/plain": [
       "['Cuca',\n",
       " 'Lua',\n",
       " 'Luba',\n",
       " 'Lucas',\n",
       " 'Luce',\n",
       " 'Lucia',\n",
       " 'Lucy',\n",
       " 'Lula',\n",
       " 'Luma',\n",
       " 'Luna',\n",
       " 'Lupa',\n",
       " 'Yuca']"
      ]
     },
     "metadata": {},
     "execution_count": 4
    }
   ],
   "source": [
    "# Extract a list containing all dognames\n",
    "dognames = dognames_df['HUNDENAME'].copy().values\n",
    "\n",
    "# Calculate the Levenshtein distance to the string 'Luca' for each dogname in the list and store the resulting values in the variable LS_distances\n",
    "LS_distances = [Levenshtein.distance(name, 'Luca') for name in dognames]\n",
    "\n",
    "# Get the positions at which a Levenshtein distance of 1 is observed\n",
    "LS_1_pos = [LS_dist == 1 for LS_dist in LS_distances]\n",
    "\n",
    "# Get a list containing the unique names in the list of dognames for which a Levenshtein distance of 1 to 'Luca' is observed\n",
    "dognames_df.loc[LS_1_pos, 'HUNDENAME'].unique().tolist()"
   ]
  }
 ]
}
